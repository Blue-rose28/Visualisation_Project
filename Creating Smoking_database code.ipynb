{
 "cells": [
  {
   "cell_type": "code",
   "execution_count": 36,
   "id": "25d12059",
   "metadata": {},
   "outputs": [],
   "source": [
    "import sqlite3\n",
    "import csv\n",
    "import os"
   ]
  },
  {
   "cell_type": "code",
   "execution_count": 37,
   "id": "40a3a393",
   "metadata": {},
   "outputs": [],
   "source": [
    "# Define the database file path (inside the \"Resources\" folder)\n",
    "db_path = os.path.join('Resources', 'smoking_database.db')"
   ]
  },
  {
   "cell_type": "code",
   "execution_count": 38,
   "id": "b004919f",
   "metadata": {},
   "outputs": [],
   "source": [
    "# Connect to the SQLite database (or create it if it doesn't exist)\n",
    "conn = sqlite3.connect(db_path)\n",
    "cursor = conn.cursor()"
   ]
  },
  {
   "cell_type": "code",
   "execution_count": null,
   "id": "6ea7c56a",
   "metadata": {},
   "outputs": [],
   "source": []
  },
  {
   "cell_type": "code",
   "execution_count": 39,
   "id": "131b3c90",
   "metadata": {},
   "outputs": [],
   "source": [
    "# Define table schemas and create tables for each CSV file\n",
    "table_schemas = {\n",
    "    'gdp_per_capita': '''\n",
    "        CREATE TABLE IF NOT EXISTS gdp_per_capita (\n",
    "            CountryName TEXT,\n",
    "            CountryCode TEXT,\n",
    "            Year INTEGER,\n",
    "            GDPPerCapita REAL\n",
    "        )\n",
    "    ''',\n",
    "    'unemployment': '''\n",
    "        CREATE TABLE IF NOT EXISTS unemployment (\n",
    "            CountryName TEXT,\n",
    "            CountryCode TEXT,\n",
    "            Year INTEGER,\n",
    "            Unemployment REAL\n",
    "        )\n",
    "    ''',\n",
    "    'health_expenditure': '''\n",
    "        CREATE TABLE IF NOT EXISTS health_expenditure (\n",
    "            CountryName TEXT,\n",
    "            CountryCode TEXT,\n",
    "            Year INTEGER,\n",
    "            HealthExpenditure REAL\n",
    "        )\n",
    "    ''',\n",
    "    'literacy': '''\n",
    "        CREATE TABLE IF NOT EXISTS literacy (\n",
    "            CountryName TEXT,\n",
    "            CountryCode TEXT,\n",
    "            Year INTEGER,\n",
    "            Literacy REAL\n",
    "        )\n",
    "    ''',\n",
    "    'smoking': '''\n",
    "        CREATE TABLE IF NOT EXISTS smoking (\n",
    "            CountryName TEXT,\n",
    "            Year INTEGER,\n",
    "            DailyCigarettes REAL,\n",
    "            PercentageMale REAL,\n",
    "            PercentageFemale REAL,\n",
    "            PercentageTotal REAL,\n",
    "            SmokersTotal REAL,\n",
    "            SmokersFemale REAL,\n",
    "            SmokersMale REAL\n",
    "        )\n",
    "    ''',\n",
    "    'master': '''\n",
    "        CREATE TABLE IF NOT EXISTS master (\n",
    "            CountryName TEXT,\n",
    "            Year INTEGER,\n",
    "            DailyCigarettes REAL,\n",
    "            PercentageMale REAL,\n",
    "            PercentageFemale REAL,\n",
    "            PercentageTotal REAL,\n",
    "            SmokersTotal REAL,\n",
    "            SmokersFemale REAL,\n",
    "            SmokersMale REAL,\n",
    "            GDPPerCapita REAL,\n",
    "            Unemployment REAL,\n",
    "            Literacy REAL,\n",
    "            HealthExpenditure REAL\n",
    "           \n",
    "        )\n",
    "    '''\n",
    "}\n",
    "\n",
    "for table_name, schema in table_schemas.items():\n",
    "    cursor.execute(schema)\n",
    "\n",
    "conn.commit()\n"
   ]
  },
  {
   "cell_type": "code",
   "execution_count": null,
   "id": "9be8634c",
   "metadata": {},
   "outputs": [],
   "source": []
  },
  {
   "cell_type": "code",
   "execution_count": 40,
   "id": "1690b936",
   "metadata": {},
   "outputs": [],
   "source": [
    "# Specify the folder where your CSV files are located\n",
    "csv_folder = 'Resources'"
   ]
  },
  {
   "cell_type": "code",
   "execution_count": 41,
   "id": "3c1465e8",
   "metadata": {},
   "outputs": [],
   "source": [
    "# Read and insert data from CSV files (assuming all CSV files are in \"Resources\")\n",
    "csv_files = [\n",
    "    'gdp_per_capita.csv',\n",
    "    'unemployment.csv',\n",
    "    'health_expenditure.csv',\n",
    "    'literacy.csv',\n",
    "    'smoking.csv',\n",
    "    'master.csv'\n",
    "]\n",
    "\n",
    "for csv_file in csv_files:\n",
    "    table_name = os.path.splitext(csv_file)[0]  # Get table name from CSV file name\n",
    "    csv_path = os.path.join(csv_folder, csv_file)  # Create the full file path\n",
    "    with open(csv_path, 'r') as csv_file:\n",
    "        csv_reader = csv.reader(csv_file)\n",
    "        next(csv_reader)  # Skip the header row if it exists\n",
    "\n",
    "        for row in csv_reader:\n",
    "            # Construct the INSERT statement dynamically based on the table schema\n",
    "            placeholders = ', '.join(['?'] * len(row))\n",
    "            insert_sql = f'INSERT INTO \"{table_name}\" VALUES ({placeholders})'\n",
    "            cursor.execute(insert_sql, row)\n"
   ]
  },
  {
   "cell_type": "code",
   "execution_count": 42,
   "id": "56b0f9d7",
   "metadata": {},
   "outputs": [
    {
     "name": "stdout",
     "output_type": "stream",
     "text": [
      "gdp_per_capita\n",
      "unemployment\n",
      "health_expenditure\n",
      "literacy\n",
      "smoking\n",
      "master\n"
     ]
    }
   ],
   "source": [
    "#CHECK NUMBER OF CSV FILE\n",
    "cursor.execute(\"SELECT name FROM sqlite_master WHERE type='table';\")\n",
    "\n",
    "tables = cursor.fetchall()\n",
    "for table in tables:\n",
    "    print(table[0])"
   ]
  },
  {
   "cell_type": "code",
   "execution_count": null,
   "id": "6735e872",
   "metadata": {},
   "outputs": [],
   "source": []
  },
  {
   "cell_type": "code",
   "execution_count": 43,
   "id": "328c16b1",
   "metadata": {},
   "outputs": [],
   "source": [
    "# Commit changes and close the connection\n",
    "conn.commit()\n",
    "conn.close()\n",
    "\n",
    "#print(\"Database created and data inserted successfully.\")"
   ]
  },
  {
   "cell_type": "code",
   "execution_count": null,
   "id": "81b899f7",
   "metadata": {},
   "outputs": [],
   "source": []
  }
 ],
 "metadata": {
  "kernelspec": {
   "display_name": "Python 3 (ipykernel)",
   "language": "python",
   "name": "python3"
  },
  "language_info": {
   "codemirror_mode": {
    "name": "ipython",
    "version": 3
   },
   "file_extension": ".py",
   "mimetype": "text/x-python",
   "name": "python",
   "nbconvert_exporter": "python",
   "pygments_lexer": "ipython3",
   "version": "3.10.11"
  }
 },
 "nbformat": 4,
 "nbformat_minor": 5
}
